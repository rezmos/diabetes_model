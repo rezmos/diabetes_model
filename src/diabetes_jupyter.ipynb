{
 "cells": [
  {
   "cell_type": "markdown",
   "metadata": {},
   "source": [
    "# Prediction diabetes readmission"
   ]
  },
  {
   "cell_type": "markdown",
   "metadata": {},
   "source": [
    "## Business Understanding"
   ]
  },
  {
   "cell_type": "markdown",
   "metadata": {},
   "source": [
    "\n",
    "I decided to work with this dataset since it represents 10 years (1999-2008) of clinical care at 130 US hospitals and integrated delivery networks. The integrity of this data could help me to solve a real-world problem using Data science.\n",
    "\n",
    " I’ll be using Machine Learning to predict whether a patient could be:\n",
    " \n",
    "1. No readmissioned;\n",
    "2. A readmission in less than 30 days (this situation is not good, because maybe\n",
    "your treatment was not appropriate);\n",
    "3. A readmission in more than 30 days (this one is not so good as well the last\n",
    "one, however, the reason could be the state of the patient.\n",
    "\n",
    "The analisys walks through the next steps:\n",
    " 1. Data Understanding\n",
    " 2. Data Exploration\n",
    " 3. Cleaning\n",
    " 4. Training Machine Learning Model\n",
    " 5. Evaluating Machine Learning Model"
   ]
  },
  {
   "cell_type": "markdown",
   "metadata": {},
   "source": [
    "## 1. Data Understanding"
   ]
  },
  {
   "cell_type": "markdown",
   "metadata": {},
   "source": [
    "First, I'm going to start reading diabetes training data into a pandas dataframe called df_diabetes and importing the necessary dependecies needed in the analysis."
   ]
  },
  {
   "cell_type": "code",
   "execution_count": 65,
   "metadata": {},
   "outputs": [],
   "source": [
    "import numpy as np\n",
    "import pandas as pd\n",
    "import utils.columns_utils as cu\n",
    "import seaborn as sns\n",
    "import matplotlib.pyplot as plt\n",
    "\n",
    "from sklearn import metrics\n",
    "from sklearn.model_selection import train_test_split\n",
    "from sklearn.neighbors import KNeighborsClassifier\n",
    "\n",
    "df_diabetes = pd.read_csv(\"./resource/diabetic_data.csv\", index_col='encounter_id')"
   ]
  },
  {
   "cell_type": "markdown",
   "metadata": {},
   "source": [
    "Then checking data, it has been read properly: First five rows:"
   ]
  },
  {
   "cell_type": "code",
   "execution_count": 66,
   "metadata": {},
   "outputs": [
    {
     "data": {
      "text/html": [
       "<div>\n",
       "<style scoped>\n",
       "    .dataframe tbody tr th:only-of-type {\n",
       "        vertical-align: middle;\n",
       "    }\n",
       "\n",
       "    .dataframe tbody tr th {\n",
       "        vertical-align: top;\n",
       "    }\n",
       "\n",
       "    .dataframe thead th {\n",
       "        text-align: right;\n",
       "    }\n",
       "</style>\n",
       "<table border=\"1\" class=\"dataframe\">\n",
       "  <thead>\n",
       "    <tr style=\"text-align: right;\">\n",
       "      <th></th>\n",
       "      <th>patient_nbr</th>\n",
       "      <th>race</th>\n",
       "      <th>gender</th>\n",
       "      <th>age</th>\n",
       "      <th>weight</th>\n",
       "      <th>admission_type_id</th>\n",
       "      <th>discharge_disposition_id</th>\n",
       "      <th>admission_source_id</th>\n",
       "      <th>time_in_hospital</th>\n",
       "      <th>payer_code</th>\n",
       "      <th>...</th>\n",
       "      <th>citoglipton</th>\n",
       "      <th>insulin</th>\n",
       "      <th>glyburide-metformin</th>\n",
       "      <th>glipizide-metformin</th>\n",
       "      <th>glimepiride-pioglitazone</th>\n",
       "      <th>metformin-rosiglitazone</th>\n",
       "      <th>metformin-pioglitazone</th>\n",
       "      <th>change</th>\n",
       "      <th>diabetesMed</th>\n",
       "      <th>readmitted</th>\n",
       "    </tr>\n",
       "    <tr>\n",
       "      <th>encounter_id</th>\n",
       "      <th></th>\n",
       "      <th></th>\n",
       "      <th></th>\n",
       "      <th></th>\n",
       "      <th></th>\n",
       "      <th></th>\n",
       "      <th></th>\n",
       "      <th></th>\n",
       "      <th></th>\n",
       "      <th></th>\n",
       "      <th></th>\n",
       "      <th></th>\n",
       "      <th></th>\n",
       "      <th></th>\n",
       "      <th></th>\n",
       "      <th></th>\n",
       "      <th></th>\n",
       "      <th></th>\n",
       "      <th></th>\n",
       "      <th></th>\n",
       "      <th></th>\n",
       "    </tr>\n",
       "  </thead>\n",
       "  <tbody>\n",
       "    <tr>\n",
       "      <th>2278392</th>\n",
       "      <td>8222157</td>\n",
       "      <td>Caucasian</td>\n",
       "      <td>Female</td>\n",
       "      <td>[0-10)</td>\n",
       "      <td>?</td>\n",
       "      <td>6</td>\n",
       "      <td>25</td>\n",
       "      <td>1</td>\n",
       "      <td>1</td>\n",
       "      <td>?</td>\n",
       "      <td>...</td>\n",
       "      <td>No</td>\n",
       "      <td>No</td>\n",
       "      <td>No</td>\n",
       "      <td>No</td>\n",
       "      <td>No</td>\n",
       "      <td>No</td>\n",
       "      <td>No</td>\n",
       "      <td>No</td>\n",
       "      <td>No</td>\n",
       "      <td>NO</td>\n",
       "    </tr>\n",
       "    <tr>\n",
       "      <th>149190</th>\n",
       "      <td>55629189</td>\n",
       "      <td>Caucasian</td>\n",
       "      <td>Female</td>\n",
       "      <td>[10-20)</td>\n",
       "      <td>?</td>\n",
       "      <td>1</td>\n",
       "      <td>1</td>\n",
       "      <td>7</td>\n",
       "      <td>3</td>\n",
       "      <td>?</td>\n",
       "      <td>...</td>\n",
       "      <td>No</td>\n",
       "      <td>Up</td>\n",
       "      <td>No</td>\n",
       "      <td>No</td>\n",
       "      <td>No</td>\n",
       "      <td>No</td>\n",
       "      <td>No</td>\n",
       "      <td>Ch</td>\n",
       "      <td>Yes</td>\n",
       "      <td>&gt;30</td>\n",
       "    </tr>\n",
       "    <tr>\n",
       "      <th>64410</th>\n",
       "      <td>86047875</td>\n",
       "      <td>AfricanAmerican</td>\n",
       "      <td>Female</td>\n",
       "      <td>[20-30)</td>\n",
       "      <td>?</td>\n",
       "      <td>1</td>\n",
       "      <td>1</td>\n",
       "      <td>7</td>\n",
       "      <td>2</td>\n",
       "      <td>?</td>\n",
       "      <td>...</td>\n",
       "      <td>No</td>\n",
       "      <td>No</td>\n",
       "      <td>No</td>\n",
       "      <td>No</td>\n",
       "      <td>No</td>\n",
       "      <td>No</td>\n",
       "      <td>No</td>\n",
       "      <td>No</td>\n",
       "      <td>Yes</td>\n",
       "      <td>NO</td>\n",
       "    </tr>\n",
       "    <tr>\n",
       "      <th>500364</th>\n",
       "      <td>82442376</td>\n",
       "      <td>Caucasian</td>\n",
       "      <td>Male</td>\n",
       "      <td>[30-40)</td>\n",
       "      <td>?</td>\n",
       "      <td>1</td>\n",
       "      <td>1</td>\n",
       "      <td>7</td>\n",
       "      <td>2</td>\n",
       "      <td>?</td>\n",
       "      <td>...</td>\n",
       "      <td>No</td>\n",
       "      <td>Up</td>\n",
       "      <td>No</td>\n",
       "      <td>No</td>\n",
       "      <td>No</td>\n",
       "      <td>No</td>\n",
       "      <td>No</td>\n",
       "      <td>Ch</td>\n",
       "      <td>Yes</td>\n",
       "      <td>NO</td>\n",
       "    </tr>\n",
       "    <tr>\n",
       "      <th>16680</th>\n",
       "      <td>42519267</td>\n",
       "      <td>Caucasian</td>\n",
       "      <td>Male</td>\n",
       "      <td>[40-50)</td>\n",
       "      <td>?</td>\n",
       "      <td>1</td>\n",
       "      <td>1</td>\n",
       "      <td>7</td>\n",
       "      <td>1</td>\n",
       "      <td>?</td>\n",
       "      <td>...</td>\n",
       "      <td>No</td>\n",
       "      <td>Steady</td>\n",
       "      <td>No</td>\n",
       "      <td>No</td>\n",
       "      <td>No</td>\n",
       "      <td>No</td>\n",
       "      <td>No</td>\n",
       "      <td>Ch</td>\n",
       "      <td>Yes</td>\n",
       "      <td>NO</td>\n",
       "    </tr>\n",
       "  </tbody>\n",
       "</table>\n",
       "<p>5 rows × 49 columns</p>\n",
       "</div>"
      ],
      "text/plain": [
       "              patient_nbr             race  gender      age weight  \\\n",
       "encounter_id                                                         \n",
       "2278392           8222157        Caucasian  Female   [0-10)      ?   \n",
       "149190           55629189        Caucasian  Female  [10-20)      ?   \n",
       "64410            86047875  AfricanAmerican  Female  [20-30)      ?   \n",
       "500364           82442376        Caucasian    Male  [30-40)      ?   \n",
       "16680            42519267        Caucasian    Male  [40-50)      ?   \n",
       "\n",
       "              admission_type_id  discharge_disposition_id  \\\n",
       "encounter_id                                                \n",
       "2278392                       6                        25   \n",
       "149190                        1                         1   \n",
       "64410                         1                         1   \n",
       "500364                        1                         1   \n",
       "16680                         1                         1   \n",
       "\n",
       "              admission_source_id  time_in_hospital payer_code  ...  \\\n",
       "encounter_id                                                    ...   \n",
       "2278392                         1                 1          ?  ...   \n",
       "149190                          7                 3          ?  ...   \n",
       "64410                           7                 2          ?  ...   \n",
       "500364                          7                 2          ?  ...   \n",
       "16680                           7                 1          ?  ...   \n",
       "\n",
       "             citoglipton  insulin  glyburide-metformin  glipizide-metformin  \\\n",
       "encounter_id                                                                  \n",
       "2278392               No       No                   No                   No   \n",
       "149190                No       Up                   No                   No   \n",
       "64410                 No       No                   No                   No   \n",
       "500364                No       Up                   No                   No   \n",
       "16680                 No   Steady                   No                   No   \n",
       "\n",
       "              glimepiride-pioglitazone  metformin-rosiglitazone  \\\n",
       "encounter_id                                                      \n",
       "2278392                             No                       No   \n",
       "149190                              No                       No   \n",
       "64410                               No                       No   \n",
       "500364                              No                       No   \n",
       "16680                               No                       No   \n",
       "\n",
       "              metformin-pioglitazone change diabetesMed readmitted  \n",
       "encounter_id                                                        \n",
       "2278392                           No     No          No         NO  \n",
       "149190                            No     Ch         Yes        >30  \n",
       "64410                             No     No         Yes         NO  \n",
       "500364                            No     Ch         Yes         NO  \n",
       "16680                             No     Ch         Yes         NO  \n",
       "\n",
       "[5 rows x 49 columns]"
      ]
     },
     "execution_count": 66,
     "metadata": {},
     "output_type": "execute_result"
    }
   ],
   "source": [
    "df_diabetes.head(5)"
   ]
  },
  {
   "cell_type": "code",
   "execution_count": 67,
   "metadata": {},
   "outputs": [
    {
     "name": "stdout",
     "output_type": "stream",
     "text": [
      "Number of columns :49 and rows:101766 \n"
     ]
    }
   ],
   "source": [
    "num_rows = df_diabetes.shape[0]\n",
    "num_col = df_diabetes.shape[1]\n",
    "print (\"Number of columns :{} and rows:{} \".format(num_col, num_rows))"
   ]
  },
  {
   "cell_type": "markdown",
   "metadata": {},
   "source": [
    "### 1.1 Checking Nullabilty"
   ]
  },
  {
   "cell_type": "markdown",
   "metadata": {},
   "source": [
    "In this step, I want to be sure the data is clean (has no null values, etc)."
   ]
  },
  {
   "cell_type": "code",
   "execution_count": 68,
   "metadata": {},
   "outputs": [
    {
     "name": "stdout",
     "output_type": "stream",
     "text": [
      "Columns missing values\n",
      "Series([], dtype: int64)\n",
      "Quantity null values (Nan or None): 0\n",
      "\n",
      "<class 'pandas.core.frame.DataFrame'>\n",
      "Int64Index: 101766 entries, 2278392 to 443867222\n",
      "Data columns (total 49 columns):\n",
      " #   Column                    Non-Null Count   Dtype \n",
      "---  ------                    --------------   ----- \n",
      " 0   patient_nbr               101766 non-null  int64 \n",
      " 1   race                      101766 non-null  object\n",
      " 2   gender                    101766 non-null  object\n",
      " 3   age                       101766 non-null  object\n",
      " 4   weight                    101766 non-null  object\n",
      " 5   admission_type_id         101766 non-null  int64 \n",
      " 6   discharge_disposition_id  101766 non-null  int64 \n",
      " 7   admission_source_id       101766 non-null  int64 \n",
      " 8   time_in_hospital          101766 non-null  int64 \n",
      " 9   payer_code                101766 non-null  object\n",
      " 10  medical_specialty         101766 non-null  object\n",
      " 11  num_lab_procedures        101766 non-null  int64 \n",
      " 12  num_procedures            101766 non-null  int64 \n",
      " 13  num_medications           101766 non-null  int64 \n",
      " 14  number_outpatient         101766 non-null  int64 \n",
      " 15  number_emergency          101766 non-null  int64 \n",
      " 16  number_inpatient          101766 non-null  int64 \n",
      " 17  diag_1                    101766 non-null  object\n",
      " 18  diag_2                    101766 non-null  object\n",
      " 19  diag_3                    101766 non-null  object\n",
      " 20  number_diagnoses          101766 non-null  int64 \n",
      " 21  max_glu_serum             101766 non-null  object\n",
      " 22  A1Cresult                 101766 non-null  object\n",
      " 23  metformin                 101766 non-null  object\n",
      " 24  repaglinide               101766 non-null  object\n",
      " 25  nateglinide               101766 non-null  object\n",
      " 26  chlorpropamide            101766 non-null  object\n",
      " 27  glimepiride               101766 non-null  object\n",
      " 28  acetohexamide             101766 non-null  object\n",
      " 29  glipizide                 101766 non-null  object\n",
      " 30  glyburide                 101766 non-null  object\n",
      " 31  tolbutamide               101766 non-null  object\n",
      " 32  pioglitazone              101766 non-null  object\n",
      " 33  rosiglitazone             101766 non-null  object\n",
      " 34  acarbose                  101766 non-null  object\n",
      " 35  miglitol                  101766 non-null  object\n",
      " 36  troglitazone              101766 non-null  object\n",
      " 37  tolazamide                101766 non-null  object\n",
      " 38  examide                   101766 non-null  object\n",
      " 39  citoglipton               101766 non-null  object\n",
      " 40  insulin                   101766 non-null  object\n",
      " 41  glyburide-metformin       101766 non-null  object\n",
      " 42  glipizide-metformin       101766 non-null  object\n",
      " 43  glimepiride-pioglitazone  101766 non-null  object\n",
      " 44  metformin-rosiglitazone   101766 non-null  object\n",
      " 45  metformin-pioglitazone    101766 non-null  object\n",
      " 46  change                    101766 non-null  object\n",
      " 47  diabetesMed               101766 non-null  object\n",
      " 48  readmitted                101766 non-null  object\n",
      "dtypes: int64(12), object(37)\n",
      "memory usage: 38.8+ MB\n"
     ]
    }
   ],
   "source": [
    "cu.get_info_cleaing_process(df_diabetes)\n",
    "print(f\"Quantity null values (Nan or None): {df_diabetes.isnull().sum().sum()}\\n\")\n",
    "df_diabetes.info()\n"
   ]
  },
  {
   "cell_type": "markdown",
   "metadata": {},
   "source": [
    "Note that the data doesn't have some missing values (Nan, null or none) \n",
    "in the samples in the previous figure. However, there are a lot of question marks \"?\", but I’ll skip that for now."
   ]
  },
  {
   "cell_type": "markdown",
   "metadata": {},
   "source": [
    "### 1.2 Knowing columns data type (Object - Quantitative):"
   ]
  },
  {
   "cell_type": "code",
   "execution_count": 69,
   "metadata": {},
   "outputs": [
    {
     "name": "stdout",
     "output_type": "stream",
     "text": [
      "Object columns (Test):\n",
      "\t\t race\n",
      "\t\t gender\n",
      "\t\t age\n",
      "\t\t weight\n",
      "\t\t payer_code\n",
      "\t\t medical_specialty\n",
      "\t\t diag_1\n",
      "\t\t diag_2\n",
      "\t\t diag_3\n",
      "\t\t max_glu_serum\n",
      "\t\t A1Cresult\n",
      "\t\t metformin\n",
      "\t\t repaglinide\n",
      "\t\t nateglinide\n",
      "\t\t chlorpropamide\n",
      "\t\t glimepiride\n",
      "\t\t acetohexamide\n",
      "\t\t glipizide\n",
      "\t\t glyburide\n",
      "\t\t tolbutamide\n",
      "\t\t pioglitazone\n",
      "\t\t rosiglitazone\n",
      "\t\t acarbose\n",
      "\t\t miglitol\n",
      "\t\t troglitazone\n",
      "\t\t tolazamide\n",
      "\t\t examide\n",
      "\t\t citoglipton\n",
      "\t\t insulin\n",
      "\t\t glyburide-metformin\n",
      "\t\t glipizide-metformin\n",
      "\t\t glimepiride-pioglitazone\n",
      "\t\t metformin-rosiglitazone\n",
      "\t\t metformin-pioglitazone\n",
      "\t\t change\n",
      "\t\t diabetesMed\n",
      "\t\t readmitted\n",
      "Quantitative columns:\n",
      "\t\t patient_nbr\n",
      "\t\t admission_type_id\n",
      "\t\t discharge_disposition_id\n",
      "\t\t admission_source_id\n",
      "\t\t time_in_hospital\n",
      "\t\t num_lab_procedures\n",
      "\t\t num_procedures\n",
      "\t\t num_medications\n",
      "\t\t number_outpatient\n",
      "\t\t number_emergency\n",
      "\t\t number_inpatient\n",
      "\t\t number_diagnoses\n"
     ]
    }
   ],
   "source": [
    "\n",
    "print(\"Object columns (Test):\")\n",
    "text_columns = cu.get_columns_type(df_diabetes.select_dtypes(include='object'))\n",
    "\n",
    "print(\"Quantitative columns:\")\n",
    "quantitative_columns = cu.get_columns_type(df_diabetes.select_dtypes(exclude='object'))\n"
   ]
  },
  {
   "cell_type": "markdown",
   "metadata": {},
   "source": [
    "\n",
    "### 1.3 Categorical variables analysis\n"
   ]
  },
  {
   "cell_type": "markdown",
   "metadata": {},
   "source": [
    "Using the above Object and quantitative columns,  I'm going to review all items in the list in order to select which features correspond to categorical variables."
   ]
  },
  {
   "cell_type": "code",
   "execution_count": 70,
   "metadata": {},
   "outputs": [
    {
     "name": "stdout",
     "output_type": "stream",
     "text": [
      "race                            6\n",
      "gender                          3\n",
      "age                            10\n",
      "weight                         10\n",
      "payer_code                     18\n",
      "medical_specialty              73\n",
      "diag_1                        717\n",
      "diag_2                        749\n",
      "diag_3                        790\n",
      "max_glu_serum                   4\n",
      "A1Cresult                       4\n",
      "metformin                       4\n",
      "repaglinide                     4\n",
      "nateglinide                     4\n",
      "chlorpropamide                  4\n",
      "glimepiride                     4\n",
      "acetohexamide                   2\n",
      "glipizide                       4\n",
      "glyburide                       4\n",
      "tolbutamide                     2\n",
      "pioglitazone                    4\n",
      "rosiglitazone                   4\n",
      "acarbose                        4\n",
      "miglitol                        4\n",
      "troglitazone                    2\n",
      "tolazamide                      3\n",
      "examide                         1\n",
      "citoglipton                     1\n",
      "insulin                         4\n",
      "glyburide-metformin             4\n",
      "glipizide-metformin             2\n",
      "glimepiride-pioglitazone        2\n",
      "metformin-rosiglitazone         2\n",
      "metformin-pioglitazone          2\n",
      "change                          2\n",
      "diabetesMed                     2\n",
      "readmitted                      3\n",
      "patient_nbr                 71518\n",
      "admission_type_id               8\n",
      "discharge_disposition_id       26\n",
      "admission_source_id            17\n",
      "time_in_hospital               14\n",
      "num_lab_procedures            118\n",
      "num_procedures                  7\n",
      "num_medications                75\n",
      "number_outpatient              39\n",
      "number_emergency               33\n",
      "number_inpatient               21\n",
      "number_diagnoses               16\n",
      "dtype: int64\n"
     ]
    }
   ],
   "source": [
    "p_var_cat = [ 'race', 'gender', 'age', 'weight', 'payer_code', 'medical_specialty', 'diag_1',\n",
    "\t\t 'diag_2', 'diag_3', 'max_glu_serum', 'A1Cresult', 'metformin', 'repaglinide', 'nateglinide',\n",
    "\t\t 'chlorpropamide', 'glimepiride', 'acetohexamide', 'glipizide', 'glyburide', 'tolbutamide',\n",
    "         'pioglitazone', 'rosiglitazone', 'acarbose', 'miglitol', 'troglitazone', 'tolazamide',\n",
    "\t\t 'examide', 'citoglipton','insulin', 'glyburide-metformin', 'glipizide-metformin', 'glimepiride-pioglitazone',\n",
    "\t\t 'metformin-rosiglitazone', 'metformin-pioglitazone', 'change', 'diabetesMed', 'readmitted',\n",
    "\t\t 'patient_nbr', 'admission_type_id', 'discharge_disposition_id', 'admission_source_id', 'time_in_hospital',\n",
    "\t\t 'num_lab_procedures', 'num_procedures', 'num_medications', 'number_outpatient', 'number_emergency',\n",
    "\t\t 'number_inpatient', 'number_diagnoses']\n",
    "\n",
    "df_diabetes[p_var_cat].astype('category')\n",
    "print(df_diabetes[p_var_cat].nunique())"
   ]
  },
  {
   "cell_type": "markdown",
   "metadata": {},
   "source": [
    "### Not Categorical Variables:"
   ]
  },
  {
   "cell_type": "markdown",
   "metadata": {},
   "source": [
    "Remember Categorical variables must have a low number of categories .If the number of categories is big, the transformation could decrease the performance.The next feature list have a big number of categories per feature (>10), that is why, they aren't categorical variables."
   ]
  },
  {
   "cell_type": "markdown",
   "metadata": {},
   "source": [
    "```age, weight, payer_code, medical_specialty, Diag_1,Diag_2, Diag_3, patient_nbr, discharge_disposition_id, admission_source_id, time_in_hospital,num_lab_procedures, num_medications, number_outpatient, number_emergency, number_inpatient, number_diagnoses.```"
   ]
  },
  {
   "cell_type": "markdown",
   "metadata": {},
   "source": [
    " Even when the below features could be categorical variables, looking the accuracy once the prediction has been done using all the Diabetes medicines. They don't contribute nothing to the accurency score. In that order they aren't going to be take into account.\n",
    " "
   ]
  },
  {
   "cell_type": "markdown",
   "metadata": {},
   "source": [
    "```'max_glu_serum', 'A1Cresult', 'metformin', 'repaglinide', 'nateglinide',\n",
    " 'chlorpropamide', 'glimepiride', 'acetohexamide', 'glipizide', 'glyburide', 'tolbutamide',\n",
    " 'pioglitazone', 'rosiglitazone', 'acarbose', 'miglitol', 'troglitazone', 'tolazamide',\n",
    " 'examide', 'citoglipton','insulin', 'glyburide-metformin', 'glipizide-metformin', 'glimepiride-pioglitazone',\n",
    " 'metformin-rosiglitazone', 'metformin-pioglitazone'```"
   ]
  },
  {
   "cell_type": "markdown",
   "metadata": {},
   "source": [
    "###  Categorical Variables:"
   ]
  },
  {
   "cell_type": "markdown",
   "metadata": {},
   "source": [
    "Once the categorical variable analysis process finished, I obtained the following list of Categorical Variables:"
   ]
  },
  {
   "cell_type": "markdown",
   "metadata": {},
   "source": [
    "```'race', 'gender',  'change', 'diabetesMed', 'readmitted','admission_type_id','num_procedures'```"
   ]
  },
  {
   "cell_type": "code",
   "execution_count": 71,
   "metadata": {},
   "outputs": [
    {
     "name": "stdout",
     "output_type": "stream",
     "text": [
      "\n",
      "Distribution by category per feature(variable)\n",
      "\n",
      "Category:race\n",
      "                 counts    %\n",
      "Caucasian         76099  0.7\n",
      "AfricanAmerican   19210  0.2\n",
      "?                  2273  0.0\n",
      "Hispanic           2037  0.0\n",
      "Other              1506  0.0\n",
      "Asian               641  0.0\n",
      "Category:gender\n",
      "                 counts    %\n",
      "Female            54708  0.5\n",
      "Male              47055  0.5\n",
      "Unknown/Invalid       3  0.0\n",
      "Category:diabetesMed\n",
      "     counts    %\n",
      "Yes   78363  0.8\n",
      "No    23403  0.2\n",
      "Category:readmitted\n",
      "     counts    %\n",
      "NO    54864  0.5\n",
      ">30   35545  0.3\n",
      "<30   11357  0.1\n",
      "Category:num_procedures\n",
      "   counts    %\n",
      "0   46652  0.5\n",
      "1   20742  0.2\n",
      "2   12717  0.1\n",
      "3    9443  0.1\n",
      "6    4954  0.0\n",
      "4    4180  0.0\n",
      "5    3078  0.0\n",
      "Category:admission_type_id\n",
      "   counts    %\n",
      "1   53990  0.5\n",
      "3   18869  0.2\n",
      "2   18480  0.2\n",
      "6    5291  0.1\n",
      "5    4785  0.0\n",
      "8     320  0.0\n",
      "7      21  0.0\n",
      "4      10  0.0\n"
     ]
    }
   ],
   "source": [
    "var_cat = [ 'race', 'gender', 'diabetesMed', 'readmitted', 'num_procedures',\n",
    "\t\t 'admission_type_id']\n",
    "\n",
    "cu.distribution_by_category(var_cat,df_diabetes)"
   ]
  },
  {
   "cell_type": "markdown",
   "metadata": {},
   "source": [
    "## 2. Data Exploration"
   ]
  },
  {
   "cell_type": "markdown",
   "metadata": {},
   "source": [
    "The next step is explore the correlation of data and visualize it using a heatmap.But first, I'm going to change the data type of the targe variable: ```readmitted``` from object (Text) to Numeric (int64). I want to use the new feature/column: ```readmitted_num``` using the next categories No=0, >30=1, <30=2."
   ]
  },
  {
   "cell_type": "code",
   "execution_count": 90,
   "metadata": {},
   "outputs": [],
   "source": [
    "#readmitt convert N=0, >30=1, <30=2\n",
    "df_diabetes ['readmitted_num'] = df_diabetes['readmitted'].str.slice(0, 1)\n",
    "df_diabetes ['readmitted_num'] =  df_diabetes ['readmitted_num'].replace(['N'],0)\n",
    "df_diabetes ['readmitted_num'] =  df_diabetes ['readmitted_num'].replace(['>'],1)\n",
    "df_diabetes ['readmitted_num'] =  df_diabetes ['readmitted_num'].replace(['<'],2)"
   ]
  },
  {
   "cell_type": "markdown",
   "metadata": {},
   "source": [
    "As we can see from the table and the below heatmap ```number_inpatient```,```number_emergency```,```number_diagnoses``` have significant correlation with the outcome/targe variable : readmitted_num"
   ]
  },
  {
   "cell_type": "code",
   "execution_count": 91,
   "metadata": {},
   "outputs": [
    {
     "data": {
      "image/png": "[encoded data removed]",
      "text/plain": [
       "<Figure size 432x288 with 2 Axes>"
      ]
     },
     "metadata": {
      "needs_background": "light"
     },
     "output_type": "display_data"
    }
   ],
   "source": [
    "numeric_dtypes_corr = df_diabetes.corr()\n",
    "sns.heatmap(numeric_dtypes_corr, annot=True)\n",
    "plt.show()"
   ]
  },
  {
   "cell_type": "markdown",
   "metadata": {},
   "source": [
    "Also notice the correlation between pairs of features, like time_in_hospital and num_medication, time_in_hospital and num_lab_procedures, or time_in_hospital and num_procedures, or time_in_hospital and num_medications, or num_lab_procedures and num_medications, or num_lab_procedures and num_procedures, or num_procedures and num_medications, or number_inpatient and number_outpatient, or discharge_disposition_id and time_in_hospital, or discharge_disposition_id and num_medications"
   ]
  },
  {
   "cell_type": "code",
   "execution_count": 92,
   "metadata": {},
   "outputs": [
    {
     "name": "stdout",
     "output_type": "stream",
     "text": [
      "                          patient_nbr  admission_type_id  \\\n",
      "patient_nbr                  1.000000          -0.012412   \n",
      "admission_type_id           -0.012412           1.000000   \n",
      "discharge_disposition_id    -0.141315           0.081921   \n",
      "admission_source_id         -0.035129           0.108711   \n",
      "time_in_hospital            -0.025922          -0.012403   \n",
      "num_lab_procedures           0.014957          -0.142429   \n",
      "num_procedures              -0.019031           0.128789   \n",
      "num_medications              0.015862           0.079812   \n",
      "number_outpatient            0.102743           0.026707   \n",
      "number_emergency             0.061520          -0.019491   \n",
      "number_inpatient             0.011232          -0.038240   \n",
      "number_diagnoses             0.219902          -0.118788   \n",
      "readmitted_num               0.057031          -0.009421   \n",
      "\n",
      "                          discharge_disposition_id  admission_source_id  \\\n",
      "patient_nbr                              -0.141315            -0.035129   \n",
      "admission_type_id                         0.081921             0.108711   \n",
      "discharge_disposition_id                  1.000000             0.016723   \n",
      "admission_source_id                       0.016723             1.000000   \n",
      "time_in_hospital                          0.162856            -0.007365   \n",
      "num_lab_procedures                        0.022999             0.048743   \n",
      "num_procedures                            0.015106            -0.134201   \n",
      "num_medications                           0.107662            -0.054900   \n",
      "number_outpatient                        -0.009848             0.025959   \n",
      "number_emergency                         -0.025491             0.059503   \n",
      "number_inpatient                          0.019551             0.035425   \n",
      "number_diagnoses                          0.042770             0.069813   \n",
      "readmitted_num                            0.011171             0.029927   \n",
      "\n",
      "                          time_in_hospital  num_lab_procedures  \\\n",
      "patient_nbr                      -0.025922            0.014957   \n",
      "admission_type_id                -0.012403           -0.142429   \n",
      "discharge_disposition_id          0.162856            0.022999   \n",
      "admission_source_id              -0.007365            0.048743   \n",
      "time_in_hospital                  1.000000            0.317656   \n",
      "num_lab_procedures                0.317656            1.000000   \n",
      "num_procedures                    0.193264            0.058451   \n",
      "num_medications                   0.466394            0.267013   \n",
      "number_outpatient                -0.009546           -0.008562   \n",
      "number_emergency                 -0.009801           -0.002231   \n",
      "number_inpatient                  0.073403            0.039730   \n",
      "number_diagnoses                  0.220671            0.151565   \n",
      "readmitted_num                    0.057609            0.037650   \n",
      "\n",
      "                          num_procedures  num_medications  number_outpatient  \\\n",
      "patient_nbr                    -0.019031         0.015862           0.102743   \n",
      "admission_type_id               0.128789         0.079812           0.026707   \n",
      "discharge_disposition_id        0.015106         0.107662          -0.009848   \n",
      "admission_source_id            -0.134201        -0.054900           0.025959   \n",
      "time_in_hospital                0.193264         0.466394          -0.009546   \n",
      "num_lab_procedures              0.058451         0.267013          -0.008562   \n",
      "num_procedures                  1.000000         0.385532          -0.024932   \n",
      "num_medications                 0.385532         1.000000           0.044530   \n",
      "number_outpatient              -0.024932         0.044530           1.000000   \n",
      "number_emergency               -0.038365         0.012965           0.090941   \n",
      "number_inpatient               -0.065834         0.064997           0.106234   \n",
      "number_diagnoses                0.072380         0.258623           0.092455   \n",
      "readmitted_num                 -0.037333         0.052066           0.067473   \n",
      "\n",
      "                          number_emergency  number_inpatient  \\\n",
      "patient_nbr                       0.061520          0.011232   \n",
      "admission_type_id                -0.019491         -0.038240   \n",
      "discharge_disposition_id         -0.025491          0.019551   \n",
      "admission_source_id               0.059503          0.035425   \n",
      "time_in_hospital                 -0.009801          0.073403   \n",
      "num_lab_procedures               -0.002231          0.039730   \n",
      "num_procedures                   -0.038365         -0.065834   \n",
      "num_medications                   0.012965          0.064997   \n",
      "number_outpatient                 0.090941          0.106234   \n",
      "number_emergency                  1.000000          0.266382   \n",
      "number_inpatient                  0.266382          1.000000   \n",
      "number_diagnoses                  0.054085          0.103245   \n",
      "readmitted_num                    0.102726          0.234121   \n",
      "\n",
      "                          number_diagnoses  readmitted_num  \n",
      "patient_nbr                       0.219902        0.057031  \n",
      "admission_type_id                -0.118788       -0.009421  \n",
      "discharge_disposition_id          0.042770        0.011171  \n",
      "admission_source_id               0.069813        0.029927  \n",
      "time_in_hospital                  0.220671        0.057609  \n",
      "num_lab_procedures                0.151565        0.037650  \n",
      "num_procedures                    0.072380       -0.037333  \n",
      "num_medications                   0.258623        0.052066  \n",
      "number_outpatient                 0.092455        0.067473  \n",
      "number_emergency                  0.054085        0.102726  \n",
      "number_inpatient                  0.103245        0.234121  \n",
      "number_diagnoses                  1.000000        0.102709  \n",
      "readmitted_num                    0.102709        1.000000  \n"
     ]
    }
   ],
   "source": [
    "print(numeric_dtypes_corr)"
   ]
  },
  {
   "cell_type": "markdown",
   "metadata": {},
   "source": [
    "As we can see from the below table, race, gender, diabetesMed and admission_type_id all have significant correlation with the outcome variable : readmitted_num"
   ]
  },
  {
   "cell_type": "code",
   "execution_count": 93,
   "metadata": {},
   "outputs": [
    {
     "name": "stdout",
     "output_type": "stream",
     "text": [
      "readmitted_num                             0         1         2\n",
      "race            gender diabetesMed                              \n",
      "AfricanAmerican Female No           0.571747  0.325279  0.102974\n",
      "                       Yes          0.529763  0.357048  0.113189\n",
      "                Male   No           0.574913  0.313589  0.111498\n",
      "                       Yes          0.539062  0.345833  0.115104\n",
      "Asian           Female No           0.679487  0.282051  0.038462\n",
      "                       Yes          0.633333  0.279167  0.087500\n",
      "                Male   No           0.659091  0.181818  0.159091\n",
      "                       Yes          0.646809  0.238298  0.114894\n",
      "Caucasian       Female No           0.591028  0.316525  0.092447\n",
      "                       Yes          0.497680  0.380345  0.121975\n",
      "                Male   No           0.600369  0.303813  0.095818\n",
      "                       Yes          0.525495  0.359477  0.115028\n",
      "Hispanic        Female No           0.620301  0.296992  0.082707\n",
      "                       Yes          0.572639  0.332930  0.094431\n",
      "                Male   No           0.613636  0.263636  0.122727\n",
      "                       Yes          0.565517  0.317241  0.117241\n",
      "Other           Female No           0.625806  0.270968  0.103226\n",
      "                       Yes          0.590219  0.306914  0.102867\n",
      "                Male   No           0.699248  0.240602  0.060150\n",
      "                       Yes          0.599359  0.304487  0.096154\n",
      "All                                 0.535882  0.351857  0.112260\n"
     ]
    }
   ],
   "source": [
    "ct = pd.crosstab([df_diabetes['race'], df_diabetes['gender'], df_diabetes['diabetesMed']], df_diabetes['readmitted_num'],margins=True,  normalize='index')\n",
    "print(ct)\n"
   ]
  },
  {
   "cell_type": "code",
   "execution_count": 94,
   "metadata": {},
   "outputs": [
    {
     "data": {
      "text/plain": [
       "<AxesSubplot:xlabel='readmitted_num', ylabel='race-gender-diabetesMed'>"
      ]
     },
     "execution_count": 94,
     "metadata": {},
     "output_type": "execute_result"
    },
    {
     "data": {
      "image/png": "[encoded data removed]",
      "text/plain": [
       "<Figure size 432x288 with 2 Axes>"
      ]
     },
     "metadata": {
      "needs_background": "light"
     },
     "output_type": "display_data"
    }
   ],
   "source": [
    "sns.heatmap(ct, annot=True)"
   ]
  },
  {
   "cell_type": "code",
   "execution_count": 95,
   "metadata": {},
   "outputs": [
    {
     "data": {
      "text/html": [
       "<style type=\"text/css\">\n",
       "#T_b37e9_row0_col0 {\n",
       "  background-color: #e1d8aa;\n",
       "  color: #000000;\n",
       "}\n",
       "#T_b37e9_row0_col1 {\n",
       "  background-color: #e2d9ab;\n",
       "  color: #000000;\n",
       "}\n",
       "#T_b37e9_row0_col2 {\n",
       "  background-color: #e5e1b0;\n",
       "  color: #000000;\n",
       "}\n",
       "#T_b37e9_row0_col3, #T_b37e9_row0_col4 {\n",
       "  background-color: #e4dfae;\n",
       "  color: #000000;\n",
       "}\n",
       "#T_b37e9_row0_col5 {\n",
       "  background-color: #e6e3b1;\n",
       "  color: #000000;\n",
       "}\n",
       "#T_b37e9_row0_col6 {\n",
       "  background-color: #e5e0af;\n",
       "  color: #000000;\n",
       "}\n",
       "#T_b37e9_row1_col0 {\n",
       "  background-color: #f8f8ea;\n",
       "  color: #000000;\n",
       "}\n",
       "#T_b37e9_row1_col1, #T_b37e9_row1_col3, #T_b37e9_row1_col4, #T_b37e9_row10_col5 {\n",
       "  background-color: #f7f7e5;\n",
       "  color: #000000;\n",
       "}\n",
       "#T_b37e9_row1_col2, #T_b37e9_row1_col5 {\n",
       "  background-color: #f7f7e7;\n",
       "  color: #000000;\n",
       "}\n",
       "#T_b37e9_row1_col6, #T_b37e9_row2_col3, #T_b37e9_row2_col6 {\n",
       "  background-color: #f7f7e6;\n",
       "  color: #000000;\n",
       "}\n",
       "#T_b37e9_row2_col0, #T_b37e9_row10_col1 {\n",
       "  background-color: #f9f9ed;\n",
       "  color: #000000;\n",
       "}\n",
       "#T_b37e9_row2_col1, #T_b37e9_row9_col2, #T_b37e9_row10_col0, #T_b37e9_row10_col4 {\n",
       "  background-color: #f9f9eb;\n",
       "  color: #000000;\n",
       "}\n",
       "#T_b37e9_row2_col2 {\n",
       "  background-color: #f5f5e0;\n",
       "  color: #000000;\n",
       "}\n",
       "#T_b37e9_row2_col4, #T_b37e9_row9_col5, #T_b37e9_row10_col2, #T_b37e9_row10_col3, #T_b37e9_row10_col6 {\n",
       "  background-color: #f8f8e8;\n",
       "  color: #000000;\n",
       "}\n",
       "#T_b37e9_row2_col5 {\n",
       "  background-color: #f6f6e4;\n",
       "  color: #000000;\n",
       "}\n",
       "#T_b37e9_row3_col0, #T_b37e9_row3_col1, #T_b37e9_row3_col2, #T_b37e9_row3_col3, #T_b37e9_row3_col4, #T_b37e9_row3_col5, #T_b37e9_row3_col6, #T_b37e9_row6_col0, #T_b37e9_row6_col1, #T_b37e9_row6_col2, #T_b37e9_row6_col3, #T_b37e9_row6_col4, #T_b37e9_row6_col5, #T_b37e9_row6_col6, #T_b37e9_row7_col0, #T_b37e9_row7_col1, #T_b37e9_row7_col2, #T_b37e9_row7_col3, #T_b37e9_row7_col4, #T_b37e9_row7_col5, #T_b37e9_row7_col6, #T_b37e9_row11_col0, #T_b37e9_row11_col1, #T_b37e9_row11_col2, #T_b37e9_row11_col3, #T_b37e9_row11_col4, #T_b37e9_row11_col5, #T_b37e9_row11_col6, #T_b37e9_row14_col0, #T_b37e9_row14_col1, #T_b37e9_row14_col2, #T_b37e9_row14_col3, #T_b37e9_row14_col4, #T_b37e9_row14_col5, #T_b37e9_row14_col6, #T_b37e9_row15_col0, #T_b37e9_row15_col1, #T_b37e9_row15_col2, #T_b37e9_row15_col3, #T_b37e9_row15_col4, #T_b37e9_row15_col5, #T_b37e9_row15_col6 {\n",
       "  background-color: #ffffff;\n",
       "  color: #000000;\n",
       "}\n",
       "#T_b37e9_row4_col0, #T_b37e9_row12_col0, #T_b37e9_row12_col1 {\n",
       "  background-color: #fefefc;\n",
       "  color: #000000;\n",
       "}\n",
       "#T_b37e9_row4_col1 {\n",
       "  background-color: #fefefb;\n",
       "  color: #000000;\n",
       "}\n",
       "#T_b37e9_row4_col2, #T_b37e9_row4_col3, #T_b37e9_row4_col5, #T_b37e9_row4_col6, #T_b37e9_row5_col3, #T_b37e9_row5_col6, #T_b37e9_row12_col4, #T_b37e9_row13_col2, #T_b37e9_row13_col4, #T_b37e9_row13_col6 {\n",
       "  background-color: #fdfdf9;\n",
       "  color: #000000;\n",
       "}\n",
       "#T_b37e9_row4_col4, #T_b37e9_row5_col2, #T_b37e9_row5_col4, #T_b37e9_row13_col0 {\n",
       "  background-color: #fdfdf8;\n",
       "  color: #000000;\n",
       "}\n",
       "#T_b37e9_row5_col0 {\n",
       "  background-color: #fcfcf5;\n",
       "  color: #000000;\n",
       "}\n",
       "#T_b37e9_row5_col1 {\n",
       "  background-color: #fbfbf3;\n",
       "  color: #000000;\n",
       "}\n",
       "#T_b37e9_row5_col5, #T_b37e9_row12_col2, #T_b37e9_row12_col3, #T_b37e9_row12_col5, #T_b37e9_row12_col6, #T_b37e9_row13_col3, #T_b37e9_row13_col5 {\n",
       "  background-color: #fdfdfa;\n",
       "  color: #000000;\n",
       "}\n",
       "#T_b37e9_row8_col0 {\n",
       "  background-color: #e8e8b4;\n",
       "  color: #000000;\n",
       "}\n",
       "#T_b37e9_row8_col1 {\n",
       "  background-color: #e9e9b8;\n",
       "  color: #000000;\n",
       "}\n",
       "#T_b37e9_row8_col2, #T_b37e9_row8_col3, #T_b37e9_row8_col4, #T_b37e9_row8_col5, #T_b37e9_row8_col6 {\n",
       "  background-color: #eaeab9;\n",
       "  color: #000000;\n",
       "}\n",
       "#T_b37e9_row9_col0, #T_b37e9_row9_col3, #T_b37e9_row9_col4, #T_b37e9_row9_col6 {\n",
       "  background-color: #f8f8e9;\n",
       "  color: #000000;\n",
       "}\n",
       "#T_b37e9_row9_col1 {\n",
       "  background-color: #f9f9ee;\n",
       "  color: #000000;\n",
       "}\n",
       "#T_b37e9_row13_col1 {\n",
       "  background-color: #fcfcf6;\n",
       "  color: #000000;\n",
       "}\n",
       "#T_b37e9_row16_col0, #T_b37e9_row16_col1, #T_b37e9_row16_col2, #T_b37e9_row16_col3, #T_b37e9_row16_col4, #T_b37e9_row16_col5, #T_b37e9_row16_col6 {\n",
       "  background-color: #1e0000;\n",
       "  color: #f1f1f1;\n",
       "}\n",
       "</style>\n",
       "<table id=\"T_b37e9_\">\n",
       "  <thead>\n",
       "    <tr>\n",
       "      <th class=\"blank\" >&nbsp;</th>\n",
       "      <th class=\"index_name level0\" >diabetesMed</th>\n",
       "      <th class=\"col_heading level0 col0\" colspan=\"3\">No</th>\n",
       "      <th class=\"col_heading level0 col3\" colspan=\"3\">Yes</th>\n",
       "      <th class=\"col_heading level0 col6\" >All</th>\n",
       "    </tr>\n",
       "    <tr>\n",
       "      <th class=\"blank\" >&nbsp;</th>\n",
       "      <th class=\"index_name level1\" >readmitted</th>\n",
       "      <th class=\"col_heading level1 col0\" ><30</th>\n",
       "      <th class=\"col_heading level1 col1\" >>30</th>\n",
       "      <th class=\"col_heading level1 col2\" >NO</th>\n",
       "      <th class=\"col_heading level1 col3\" ><30</th>\n",
       "      <th class=\"col_heading level1 col4\" >>30</th>\n",
       "      <th class=\"col_heading level1 col5\" >NO</th>\n",
       "      <th class=\"col_heading level1 col6\" ></th>\n",
       "    </tr>\n",
       "    <tr>\n",
       "      <th class=\"index_name level0\" >gender</th>\n",
       "      <th class=\"index_name level1\" >admission_type_id</th>\n",
       "      <th class=\"blank col0\" >&nbsp;</th>\n",
       "      <th class=\"blank col1\" >&nbsp;</th>\n",
       "      <th class=\"blank col2\" >&nbsp;</th>\n",
       "      <th class=\"blank col3\" >&nbsp;</th>\n",
       "      <th class=\"blank col4\" >&nbsp;</th>\n",
       "      <th class=\"blank col5\" >&nbsp;</th>\n",
       "      <th class=\"blank col6\" >&nbsp;</th>\n",
       "    </tr>\n",
       "  </thead>\n",
       "  <tbody>\n",
       "    <tr>\n",
       "      <th id=\"T_b37e9_level0_row0\" class=\"row_heading level0 row0\" rowspan=\"8\">Female</th>\n",
       "      <th id=\"T_b37e9_level1_row0\" class=\"row_heading level1 row0\" >1</th>\n",
       "      <td id=\"T_b37e9_row0_col0\" class=\"data row0 col0\" >736</td>\n",
       "      <td id=\"T_b37e9_row0_col1\" class=\"data row0 col1\" >2313</td>\n",
       "      <td id=\"T_b37e9_row0_col2\" class=\"data row0 col2\" >3910</td>\n",
       "      <td id=\"T_b37e9_row0_col3\" class=\"data row0 col3\" >2662</td>\n",
       "      <td id=\"T_b37e9_row0_col4\" class=\"data row0 col4\" >8284</td>\n",
       "      <td id=\"T_b37e9_row0_col5\" class=\"data row0 col5\" >11006</td>\n",
       "      <td id=\"T_b37e9_row0_col6\" class=\"data row0 col6\" >28911</td>\n",
       "    </tr>\n",
       "    <tr>\n",
       "      <th id=\"T_b37e9_level1_row1\" class=\"row_heading level1 row1\" >2</th>\n",
       "      <td id=\"T_b37e9_row1_col0\" class=\"data row1 col0\" >176</td>\n",
       "      <td id=\"T_b37e9_row1_col1\" class=\"data row1 col1\" >707</td>\n",
       "      <td id=\"T_b37e9_row1_col2\" class=\"data row1 col2\" >1239</td>\n",
       "      <td id=\"T_b37e9_row1_col3\" class=\"data row1 col3\" >894</td>\n",
       "      <td id=\"T_b37e9_row1_col4\" class=\"data row1 col4\" >2804</td>\n",
       "      <td id=\"T_b37e9_row1_col5\" class=\"data row1 col5\" >3705</td>\n",
       "      <td id=\"T_b37e9_row1_col6\" class=\"data row1 col6\" >9525</td>\n",
       "    </tr>\n",
       "    <tr>\n",
       "      <th id=\"T_b37e9_level1_row2\" class=\"row_heading level1 row2\" >3</th>\n",
       "      <td id=\"T_b37e9_row2_col0\" class=\"data row2 col0\" >161</td>\n",
       "      <td id=\"T_b37e9_row2_col1\" class=\"data row2 col1\" >552</td>\n",
       "      <td id=\"T_b37e9_row2_col2\" class=\"data row2 col2\" >1585</td>\n",
       "      <td id=\"T_b37e9_row2_col3\" class=\"data row2 col3\" >842</td>\n",
       "      <td id=\"T_b37e9_row2_col4\" class=\"data row2 col4\" >2428</td>\n",
       "      <td id=\"T_b37e9_row2_col5\" class=\"data row2 col5\" >4114</td>\n",
       "      <td id=\"T_b37e9_row2_col6\" class=\"data row2 col6\" >9682</td>\n",
       "    </tr>\n",
       "    <tr>\n",
       "      <th id=\"T_b37e9_level1_row3\" class=\"row_heading level1 row3\" >4</th>\n",
       "      <td id=\"T_b37e9_row3_col0\" class=\"data row3 col0\" >0</td>\n",
       "      <td id=\"T_b37e9_row3_col1\" class=\"data row3 col1\" >0</td>\n",
       "      <td id=\"T_b37e9_row3_col2\" class=\"data row3 col2\" >1</td>\n",
       "      <td id=\"T_b37e9_row3_col3\" class=\"data row3 col3\" >1</td>\n",
       "      <td id=\"T_b37e9_row3_col4\" class=\"data row3 col4\" >1</td>\n",
       "      <td id=\"T_b37e9_row3_col5\" class=\"data row3 col5\" >0</td>\n",
       "      <td id=\"T_b37e9_row3_col6\" class=\"data row3 col6\" >3</td>\n",
       "    </tr>\n",
       "    <tr>\n",
       "      <th id=\"T_b37e9_level1_row4\" class=\"row_heading level1 row4\" >5</th>\n",
       "      <td id=\"T_b37e9_row4_col0\" class=\"data row4 col0\" >33</td>\n",
       "      <td id=\"T_b37e9_row4_col1\" class=\"data row4 col1\" >116</td>\n",
       "      <td id=\"T_b37e9_row4_col2\" class=\"data row4 col2\" >331</td>\n",
       "      <td id=\"T_b37e9_row4_col3\" class=\"data row4 col3\" >233</td>\n",
       "      <td id=\"T_b37e9_row4_col4\" class=\"data row4 col4\" >825</td>\n",
       "      <td id=\"T_b37e9_row4_col5\" class=\"data row4 col5\" >1039</td>\n",
       "      <td id=\"T_b37e9_row4_col6\" class=\"data row4 col6\" >2577</td>\n",
       "    </tr>\n",
       "    <tr>\n",
       "      <th id=\"T_b37e9_level1_row5\" class=\"row_heading level1 row5\" >6</th>\n",
       "      <td id=\"T_b37e9_row5_col0\" class=\"data row5 col0\" >90</td>\n",
       "      <td id=\"T_b37e9_row5_col1\" class=\"data row5 col1\" >337</td>\n",
       "      <td id=\"T_b37e9_row5_col2\" class=\"data row5 col2\" >386</td>\n",
       "      <td id=\"T_b37e9_row5_col3\" class=\"data row5 col3\" >217</td>\n",
       "      <td id=\"T_b37e9_row5_col4\" class=\"data row5 col4\" >848</td>\n",
       "      <td id=\"T_b37e9_row5_col5\" class=\"data row5 col5\" >816</td>\n",
       "      <td id=\"T_b37e9_row5_col6\" class=\"data row5 col6\" >2694</td>\n",
       "    </tr>\n",
       "    <tr>\n",
       "      <th id=\"T_b37e9_level1_row6\" class=\"row_heading level1 row6\" >7</th>\n",
       "      <td id=\"T_b37e9_row6_col0\" class=\"data row6 col0\" >0</td>\n",
       "      <td id=\"T_b37e9_row6_col1\" class=\"data row6 col1\" >0</td>\n",
       "      <td id=\"T_b37e9_row6_col2\" class=\"data row6 col2\" >1</td>\n",
       "      <td id=\"T_b37e9_row6_col3\" class=\"data row6 col3\" >0</td>\n",
       "      <td id=\"T_b37e9_row6_col4\" class=\"data row6 col4\" >0</td>\n",
       "      <td id=\"T_b37e9_row6_col5\" class=\"data row6 col5\" >7</td>\n",
       "      <td id=\"T_b37e9_row6_col6\" class=\"data row6 col6\" >8</td>\n",
       "    </tr>\n",
       "    <tr>\n",
       "      <th id=\"T_b37e9_level1_row7\" class=\"row_heading level1 row7\" >8</th>\n",
       "      <td id=\"T_b37e9_row7_col0\" class=\"data row7 col0\" >2</td>\n",
       "      <td id=\"T_b37e9_row7_col1\" class=\"data row7 col1\" >6</td>\n",
       "      <td id=\"T_b37e9_row7_col2\" class=\"data row7 col2\" >26</td>\n",
       "      <td id=\"T_b37e9_row7_col3\" class=\"data row7 col3\" >14</td>\n",
       "      <td id=\"T_b37e9_row7_col4\" class=\"data row7 col4\" >36</td>\n",
       "      <td id=\"T_b37e9_row7_col5\" class=\"data row7 col5\" >91</td>\n",
       "      <td id=\"T_b37e9_row7_col6\" class=\"data row7 col6\" >175</td>\n",
       "    </tr>\n",
       "    <tr>\n",
       "      <th id=\"T_b37e9_level0_row8\" class=\"row_heading level0 row8\" rowspan=\"8\">Male</th>\n",
       "      <th id=\"T_b37e9_level1_row8\" class=\"row_heading level1 row8\" >1</th>\n",
       "      <td id=\"T_b37e9_row8_col0\" class=\"data row8 col0\" >566</td>\n",
       "      <td id=\"T_b37e9_row8_col1\" class=\"data row8 col1\" >1734</td>\n",
       "      <td id=\"T_b37e9_row8_col2\" class=\"data row8 col2\" >3271</td>\n",
       "      <td id=\"T_b37e9_row8_col3\" class=\"data row8 col3\" >2158</td>\n",
       "      <td id=\"T_b37e9_row8_col4\" class=\"data row8 col4\" >6672</td>\n",
       "      <td id=\"T_b37e9_row8_col5\" class=\"data row8 col5\" >9588</td>\n",
       "      <td id=\"T_b37e9_row8_col6\" class=\"data row8 col6\" >23989</td>\n",
       "    </tr>\n",
       "    <tr>\n",
       "      <th id=\"T_b37e9_level1_row9\" class=\"row_heading level1 row9\" >2</th>\n",
       "      <td id=\"T_b37e9_row9_col0\" class=\"data row9 col0\" >189</td>\n",
       "      <td id=\"T_b37e9_row9_col1\" class=\"data row9 col1\" >500</td>\n",
       "      <td id=\"T_b37e9_row9_col2\" class=\"data row9 col2\" >1040</td>\n",
       "      <td id=\"T_b37e9_row9_col3\" class=\"data row9 col3\" >750</td>\n",
       "      <td id=\"T_b37e9_row9_col4\" class=\"data row9 col4\" >2334</td>\n",
       "      <td id=\"T_b37e9_row9_col5\" class=\"data row9 col5\" >3448</td>\n",
       "      <td id=\"T_b37e9_row9_col6\" class=\"data row9 col6\" >8261</td>\n",
       "    </tr>\n",
       "    <tr>\n",
       "      <th id=\"T_b37e9_level1_row10\" class=\"row_heading level1 row10\" >3</th>\n",
       "      <td id=\"T_b37e9_row10_col0\" class=\"data row10 col0\" >167</td>\n",
       "      <td id=\"T_b37e9_row10_col1\" class=\"data row10 col1\" >521</td>\n",
       "      <td id=\"T_b37e9_row10_col2\" class=\"data row10 col2\" >1196</td>\n",
       "      <td id=\"T_b37e9_row10_col3\" class=\"data row10 col3\" >770</td>\n",
       "      <td id=\"T_b37e9_row10_col4\" class=\"data row10 col4\" >2165</td>\n",
       "      <td id=\"T_b37e9_row10_col5\" class=\"data row10 col5\" >4006</td>\n",
       "      <td id=\"T_b37e9_row10_col6\" class=\"data row10 col6\" >8825</td>\n",
       "    </tr>\n",
       "    <tr>\n",
       "      <th id=\"T_b37e9_level1_row11\" class=\"row_heading level1 row11\" >4</th>\n",
       "      <td id=\"T_b37e9_row11_col0\" class=\"data row11 col0\" >0</td>\n",
       "      <td id=\"T_b37e9_row11_col1\" class=\"data row11 col1\" >0</td>\n",
       "      <td id=\"T_b37e9_row11_col2\" class=\"data row11 col2\" >1</td>\n",
       "      <td id=\"T_b37e9_row11_col3\" class=\"data row11 col3\" >0</td>\n",
       "      <td id=\"T_b37e9_row11_col4\" class=\"data row11 col4\" >1</td>\n",
       "      <td id=\"T_b37e9_row11_col5\" class=\"data row11 col5\" >5</td>\n",
       "      <td id=\"T_b37e9_row11_col6\" class=\"data row11 col6\" >7</td>\n",
       "    </tr>\n",
       "    <tr>\n",
       "      <th id=\"T_b37e9_level1_row12\" class=\"row_heading level1 row12\" >5</th>\n",
       "      <td id=\"T_b37e9_row12_col0\" class=\"data row12 col0\" >28</td>\n",
       "      <td id=\"T_b37e9_row12_col1\" class=\"data row12 col1\" >102</td>\n",
       "      <td id=\"T_b37e9_row12_col2\" class=\"data row12 col2\" >273</td>\n",
       "      <td id=\"T_b37e9_row12_col3\" class=\"data row12 col3\" >197</td>\n",
       "      <td id=\"T_b37e9_row12_col4\" class=\"data row12 col4\" >665</td>\n",
       "      <td id=\"T_b37e9_row12_col5\" class=\"data row12 col5\" >885</td>\n",
       "      <td id=\"T_b37e9_row12_col6\" class=\"data row12 col6\" >2150</td>\n",
       "    </tr>\n",
       "    <tr>\n",
       "      <th id=\"T_b37e9_level1_row13\" class=\"row_heading level1 row13\" >6</th>\n",
       "      <td id=\"T_b37e9_row13_col0\" class=\"data row13 col0\" >69</td>\n",
       "      <td id=\"T_b37e9_row13_col1\" class=\"data row13 col1\" >257</td>\n",
       "      <td id=\"T_b37e9_row13_col2\" class=\"data row13 col2\" >360</td>\n",
       "      <td id=\"T_b37e9_row13_col3\" class=\"data row13 col3\" >203</td>\n",
       "      <td id=\"T_b37e9_row13_col4\" class=\"data row13 col4\" >758</td>\n",
       "      <td id=\"T_b37e9_row13_col5\" class=\"data row13 col5\" >884</td>\n",
       "      <td id=\"T_b37e9_row13_col6\" class=\"data row13 col6\" >2531</td>\n",
       "    </tr>\n",
       "    <tr>\n",
       "      <th id=\"T_b37e9_level1_row14\" class=\"row_heading level1 row14\" >7</th>\n",
       "      <td id=\"T_b37e9_row14_col0\" class=\"data row14 col0\" >0</td>\n",
       "      <td id=\"T_b37e9_row14_col1\" class=\"data row14 col1\" >0</td>\n",
       "      <td id=\"T_b37e9_row14_col2\" class=\"data row14 col2\" >5</td>\n",
       "      <td id=\"T_b37e9_row14_col3\" class=\"data row14 col3\" >0</td>\n",
       "      <td id=\"T_b37e9_row14_col4\" class=\"data row14 col4\" >0</td>\n",
       "      <td id=\"T_b37e9_row14_col5\" class=\"data row14 col5\" >7</td>\n",
       "      <td id=\"T_b37e9_row14_col6\" class=\"data row14 col6\" >12</td>\n",
       "    </tr>\n",
       "    <tr>\n",
       "      <th id=\"T_b37e9_level1_row15\" class=\"row_heading level1 row15\" >8</th>\n",
       "      <td id=\"T_b37e9_row15_col0\" class=\"data row15 col0\" >1</td>\n",
       "      <td id=\"T_b37e9_row15_col1\" class=\"data row15 col1\" >2</td>\n",
       "      <td id=\"T_b37e9_row15_col2\" class=\"data row15 col2\" >11</td>\n",
       "      <td id=\"T_b37e9_row15_col3\" class=\"data row15 col3\" >10</td>\n",
       "      <td id=\"T_b37e9_row15_col4\" class=\"data row15 col4\" >39</td>\n",
       "      <td id=\"T_b37e9_row15_col5\" class=\"data row15 col5\" >79</td>\n",
       "      <td id=\"T_b37e9_row15_col6\" class=\"data row15 col6\" >142</td>\n",
       "    </tr>\n",
       "    <tr>\n",
       "      <th id=\"T_b37e9_level0_row16\" class=\"row_heading level0 row16\" >All</th>\n",
       "      <th id=\"T_b37e9_level1_row16\" class=\"row_heading level1 row16\" ></th>\n",
       "      <td id=\"T_b37e9_row16_col0\" class=\"data row16 col0\" >2218</td>\n",
       "      <td id=\"T_b37e9_row16_col1\" class=\"data row16 col1\" >7147</td>\n",
       "      <td id=\"T_b37e9_row16_col2\" class=\"data row16 col2\" >13636</td>\n",
       "      <td id=\"T_b37e9_row16_col3\" class=\"data row16 col3\" >8951</td>\n",
       "      <td id=\"T_b37e9_row16_col4\" class=\"data row16 col4\" >27860</td>\n",
       "      <td id=\"T_b37e9_row16_col5\" class=\"data row16 col5\" >39680</td>\n",
       "      <td id=\"T_b37e9_row16_col6\" class=\"data row16 col6\" >99492</td>\n",
       "    </tr>\n",
       "  </tbody>\n",
       "</table>\n"
      ],
      "text/plain": [
       "<pandas.io.formats.style.Styler at 0x7f48db7a84c0>"
      ]
     },
     "execution_count": 95,
     "metadata": {},
     "output_type": "execute_result"
    }
   ],
   "source": [
    "pd.crosstab([df_diabetes.gender,df_diabetes.admission_type_id],[df_diabetes.diabetesMed, df_diabetes.readmitted],margins=True).style.background_gradient(cmap='pink_r')"
   ]
  },
  {
   "cell_type": "markdown",
   "metadata": {},
   "source": [
    "### 3. Cleaning"
   ]
  },
  {
   "cell_type": "markdown",
   "metadata": {},
   "source": [
    "1. Drop rows with question marks \"?\""
   ]
  },
  {
   "cell_type": "code",
   "execution_count": 96,
   "metadata": {},
   "outputs": [
    {
     "name": "stdout",
     "output_type": "stream",
     "text": [
      "\n",
      "Distribution by category per feature(variable)\n",
      "\n",
      "Category:race\n",
      "                 counts    %\n",
      "Caucasian         76099  0.8\n",
      "AfricanAmerican   19210  0.2\n",
      "Hispanic           2037  0.0\n",
      "Other              1505  0.0\n",
      "Asian               641  0.0\n",
      "Category:gender\n",
      "        counts    %\n",
      "Female   53575  0.5\n",
      "Male     45917  0.5\n",
      "Category:diabetesMed\n",
      "     counts    %\n",
      "Yes   76491  0.8\n",
      "No    23001  0.2\n",
      "Category:readmitted\n",
      "     counts    %\n",
      "NO    53316  0.5\n",
      ">30   35007  0.4\n",
      "<30   11169  0.1\n",
      "Category:num_procedures\n",
      "   counts    %\n",
      "0   45500  0.5\n",
      "1   20328  0.2\n",
      "2   12488  0.1\n",
      "3    9269  0.1\n",
      "6    4825  0.0\n",
      "4    4098  0.0\n",
      "5    2984  0.0\n",
      "Category:admission_type_id\n",
      "   counts    %\n",
      "1   52900  0.5\n",
      "3   18507  0.2\n",
      "2   17786  0.2\n",
      "6    5225  0.1\n",
      "5    4727  0.0\n",
      "8     317  0.0\n",
      "7      20  0.0\n",
      "4      10  0.0\n"
     ]
    }
   ],
   "source": [
    "\n",
    "df_diabetes[\"gender\"] = df_diabetes[\"gender\"].replace(\"Unknown/Invalid\", np.NaN)\n",
    "df_diabetes.dropna(subset=[\"gender\"], axis=0, inplace=True)\n",
    "\n",
    "df_diabetes[\"race\"] = df_diabetes[\"race\"].replace(\"?\", np.NaN)\n",
    "df_diabetes.dropna(subset=[\"race\"], axis=0, inplace=True)\n",
    "\n",
    "cu.distribution_by_category(var_cat,df_diabetes)"
   ]
  },
  {
   "cell_type": "markdown",
   "metadata": {},
   "source": [
    "##  4. Training Machine Learning Model"
   ]
  },
  {
   "cell_type": "markdown",
   "metadata": {},
   "source": [
    "I selected K Nearest Neighbor algorithm because is really simple, easy to understand and one of the topmost machine learning algorithms. This KNN Classifier needs the training set and the test set. "
   ]
  },
  {
   "cell_type": "markdown",
   "metadata": {},
   "source": [
    " ### 4.1 Dataset preparation"
   ]
  },
  {
   "cell_type": "markdown",
   "metadata": {},
   "source": [
    "To obtain those sets, I needed to split the data: training set size 70% and test set size 30%."
   ]
  },
  {
   "cell_type": "code",
   "execution_count": 97,
   "metadata": {},
   "outputs": [
    {
     "name": "stdout",
     "output_type": "stream",
     "text": [
      "Number of columns :50 and rows:99492 \n"
     ]
    }
   ],
   "source": [
    "num_rows = df_diabetes.shape[0]\n",
    "num_col = df_diabetes.shape[1]\n",
    "print (\"Number of columns :{} and rows:{} \".format(num_col, num_rows))"
   ]
  },
  {
   "cell_type": "markdown",
   "metadata": {},
   "source": [
    "So, The 70% = 69645 and the 30% = 29847\n",
    "The data set consists of record of 99492 patients in total. To train the model I will be using 69645 records, and  29847 records for testing."
   ]
  },
  {
   "cell_type": "code",
   "execution_count": 98,
   "metadata": {},
   "outputs": [],
   "source": [
    "df_diabetes_training = df_diabetes[:69646]\n",
    "df_diabetes_test = df_diabetes[69646:]"
   ]
  },
  {
   "cell_type": "markdown",
   "metadata": {},
   "source": [
    "The next step is grouping all features/variables with significant correlation with the outcome variable like:\n",
    "  __```race, gender, diabetesMed, number_inpatient,number_emergency,number_diagnoses, and admission_type_id```__\n"
   ]
  },
  {
   "cell_type": "markdown",
   "metadata": {},
   "source": [
    "And variables with correlation between them like:\n",
    "__```time_in_hospital, num_medications, num_lab_procedures, num_procedures, number_inpatient, number_outpatient and discharge_disposition_id ```__\n"
   ]
  },
  {
   "cell_type": "markdown",
   "metadata": {},
   "source": [
    "The union of these list of variables correspond to the variables that helps to predict the model:"
   ]
  },
  {
   "cell_type": "code",
   "execution_count": 99,
   "metadata": {},
   "outputs": [
    {
     "data": {
      "text/plain": [
       "['race',\n",
       " 'gender',\n",
       " 'diabetesMed',\n",
       " 'number_inpatient',\n",
       " 'number_emergency',\n",
       " 'number_diagnoses',\n",
       " 'admission_type_id',\n",
       " 'time_in_hospital',\n",
       " 'num_medications',\n",
       " 'num_lab_procedures',\n",
       " 'num_procedures',\n",
       " 'number_outpatient',\n",
       " 'discharge_disposition_id',\n",
       " 'readmitted_num']"
      ]
     },
     "execution_count": 99,
     "metadata": {},
     "output_type": "execute_result"
    }
   ],
   "source": [
    "[ 'race', 'gender', 'diabetesMed', 'number_inpatient', 'number_emergency', 'number_diagnoses', 'admission_type_id','time_in_hospital','num_medications','num_lab_procedures','num_procedures',  'number_outpatient', 'discharge_disposition_id', 'readmitted_num']"
   ]
  },
  {
   "cell_type": "markdown",
   "metadata": {},
   "source": [
    "Using __get_dummies__ Convert categorical variable into dummy/indicator variables (1/0)."
   ]
  },
  {
   "cell_type": "code",
   "execution_count": 100,
   "metadata": {},
   "outputs": [
    {
     "name": "stdout",
     "output_type": "stream",
     "text": [
      "              patient_nbr  number_inpatient  number_emergency  \\\n",
      "encounter_id                                                    \n",
      "2278392           8222157                 0                 0   \n",
      "149190           55629189                 0                 0   \n",
      "64410            86047875                 1                 0   \n",
      "500364           82442376                 0                 0   \n",
      "16680            42519267                 0                 0   \n",
      "\n",
      "              number_diagnoses  admission_type_id  time_in_hospital  \\\n",
      "encounter_id                                                          \n",
      "2278392                      1                  6                 1   \n",
      "149190                       9                  1                 3   \n",
      "64410                        6                  1                 2   \n",
      "500364                       7                  1                 2   \n",
      "16680                        5                  1                 1   \n",
      "\n",
      "              num_medications  num_lab_procedures  num_procedures  \\\n",
      "encounter_id                                                        \n",
      "2278392                     1                  41               0   \n",
      "149190                     18                  59               0   \n",
      "64410                      13                  11               5   \n",
      "500364                     16                  44               1   \n",
      "16680                       8                  51               0   \n",
      "\n",
      "              number_outpatient  ...  readmitted_num  race_AfricanAmerican  \\\n",
      "encounter_id                     ...                                         \n",
      "2278392                       0  ...               0                     0   \n",
      "149190                        0  ...               1                     0   \n",
      "64410                         2  ...               0                     1   \n",
      "500364                        0  ...               0                     0   \n",
      "16680                         0  ...               0                     0   \n",
      "\n",
      "              race_Asian  race_Caucasian  race_Hispanic  race_Other  \\\n",
      "encounter_id                                                          \n",
      "2278392                0               1              0           0   \n",
      "149190                 0               1              0           0   \n",
      "64410                  0               0              0           0   \n",
      "500364                 0               1              0           0   \n",
      "16680                  0               1              0           0   \n",
      "\n",
      "              gender_Female  gender_Male  diabetesMed_No  diabetesMed_Yes  \n",
      "encounter_id                                                               \n",
      "2278392                   1            0               1                0  \n",
      "149190                    1            0               0                1  \n",
      "64410                     1            0               0                1  \n",
      "500364                    0            1               0                1  \n",
      "16680                     0            1               0                1  \n",
      "\n",
      "[5 rows x 21 columns]\n"
     ]
    }
   ],
   "source": [
    "df_diabetes_target_prediction_variables = pd.get_dummies(df_diabetes_training[[ 'patient_nbr', 'race', 'gender', 'diabetesMed', 'number_inpatient', 'number_emergency', 'number_diagnoses', 'admission_type_id',\n",
    "\t\t 'time_in_hospital','num_medications','num_lab_procedures','num_procedures',  'number_outpatient', 'discharge_disposition_id', 'readmitted_num']])\n",
    "print(df_diabetes_target_prediction_variables.head())"
   ]
  },
  {
   "cell_type": "markdown",
   "metadata": {},
   "source": [
    "The next step is assing the target variable into a new variable 'x' and delete it from the prediction variable list. This target variable is the one I want to predict: readmitted"
   ]
  },
  {
   "cell_type": "code",
   "execution_count": 101,
   "metadata": {},
   "outputs": [],
   "source": [
    "x = df_diabetes_target_prediction_variables\n",
    "y = df_diabetes_target_prediction_variables['readmitted_num']\n",
    "\n",
    "x.drop(['readmitted_num'],axis=1, inplace=True)"
   ]
  },
  {
   "cell_type": "markdown",
   "metadata": {},
   "source": [
    "### 4.1 Instantiate, Fit and predict"
   ]
  },
  {
   "cell_type": "code",
   "execution_count": 102,
   "metadata": {},
   "outputs": [
    {
     "name": "stdout",
     "output_type": "stream",
     "text": [
      "Accuracy: 0.51\n"
     ]
    }
   ],
   "source": [
    "# Learning process\n",
    "X_train, X_test, y_train, y_test = train_test_split(x, y, test_size=.2, random_state = 0)\n",
    "lm_model = KNeighborsClassifier(n_neighbors=3)\n",
    "# Fit the k-nearest neighbors classifier from the training dataset.\n",
    "lm_model.fit(X_train, y_train)\n",
    "# Predict\n",
    "y_pred = lm_model.predict(X_test)\n",
    "print(f\"Accuracy: {np.round(metrics.accuracy_score(y_test, y_pred), 2)}\")\n"
   ]
  },
  {
   "cell_type": "code",
   "execution_count": 103,
   "metadata": {},
   "outputs": [
    {
     "name": "stdout",
     "output_type": "stream",
     "text": [
      "              patient_nbr  number_inpatient  number_emergency  \\\n",
      "encounter_id                                                    \n",
      "204940446        90002340                 0                 0   \n",
      "204944922         6039630                 0                 0   \n",
      "204970092       109877742                 0                 0   \n",
      "204971226        56980809                 3                 0   \n",
      "204976278        85399461                 2                 0   \n",
      "\n",
      "              number_diagnoses  admission_type_id  time_in_hospital  \\\n",
      "encounter_id                                                          \n",
      "204940446                    9                  1                 6   \n",
      "204944922                    5                  1                 2   \n",
      "204970092                    7                  2                 6   \n",
      "204971226                    9                  1                 1   \n",
      "204976278                    9                  3                 7   \n",
      "\n",
      "              num_medications  num_lab_procedures  num_procedures  \\\n",
      "encounter_id                                                        \n",
      "204940446                  17                  61               3   \n",
      "204944922                   6                  55               0   \n",
      "204970092                  17                  59               5   \n",
      "204971226                  19                  58               0   \n",
      "204976278                  35                  41               2   \n",
      "\n",
      "              number_outpatient  discharge_disposition_id  \\\n",
      "encounter_id                                                \n",
      "204940446                     1                         3   \n",
      "204944922                     0                         1   \n",
      "204970092                     0                         1   \n",
      "204971226                     0                         1   \n",
      "204976278                     2                         3   \n",
      "\n",
      "              race_AfricanAmerican  race_Asian  race_Caucasian  race_Hispanic  \\\n",
      "encounter_id                                                                    \n",
      "204940446                        0           0               1              0   \n",
      "204944922                        0           0               1              0   \n",
      "204970092                        0           0               1              0   \n",
      "204971226                        1           0               0              0   \n",
      "204976278                        0           0               1              0   \n",
      "\n",
      "              race_Other  gender_Female  gender_Male  diabetesMed_No  \\\n",
      "encounter_id                                                           \n",
      "204940446              0              0            1               0   \n",
      "204944922              0              1            0               0   \n",
      "204970092              0              0            1               0   \n",
      "204971226              0              1            0               0   \n",
      "204976278              0              1            0               0   \n",
      "\n",
      "              diabetesMed_Yes  \n",
      "encounter_id                   \n",
      "204940446                   1  \n",
      "204944922                   1  \n",
      "204970092                   1  \n",
      "204971226                   1  \n",
      "204976278                   1  \n"
     ]
    }
   ],
   "source": [
    "df_diabetes_test_t = pd.get_dummies(df_diabetes_test[[ 'patient_nbr','race', 'gender', 'diabetesMed', 'number_inpatient', 'number_emergency', 'number_diagnoses', 'admission_type_id',\n",
    "\t\t 'time_in_hospital','num_medications','num_lab_procedures','num_procedures',  'number_outpatient', 'discharge_disposition_id']])\n",
    "print(df_diabetes_test_t.head())\n",
    "# Generate test predictions\n",
    "preds_test = lm_model.predict(df_diabetes_test_t)\n",
    "\n",
    "\n",
    "# Save predictions in format used for competition scoring\n",
    "output = pd.DataFrame({'Id': df_diabetes_test_t.patient_nbr,\n",
    "                       'readmitted': preds_test})\n",
    "output.to_csv('readmitted_T_KNN_v2.csv', index=False)"
   ]
  },
  {
   "cell_type": "markdown",
   "metadata": {},
   "source": [
    "The prediction of the  test dataset were saved in readmitted_T_KNN_v2.cs file."
   ]
  },
  {
   "cell_type": "code",
   "execution_count": null,
   "metadata": {},
   "outputs": [],
   "source": []
  }
 ],
 "metadata": {
  "kernelspec": {
   "display_name": "Python 3 (ipykernel)",
   "language": "python",
   "name": "python3"
  },
  "language_info": {
   "codemirror_mode": {
    "name": "ipython",
    "version": 3
   },
   "file_extension": ".py",
   "mimetype": "text/x-python",
   "name": "python",
   "nbconvert_exporter": "python",
   "pygments_lexer": "ipython3",
   "version": "3.9.7"
  }
 },
 "nbformat": 4,
 "nbformat_minor": 2
}
